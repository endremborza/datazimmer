{
 "cells": [
  {
   "cell_type": "code",
   "execution_count": 1,
   "source": [
    "import importlib"
   ],
   "outputs": [],
   "metadata": {}
  },
  {
   "cell_type": "code",
   "execution_count": 2,
   "source": [
    "from pathlib import Path\n",
    "\n",
    "from invoke import Context\n",
    "\n",
    "from sscutils.tests.utils import TemporaryDataset, TemporaryDataset2, TemporaryProject\n",
    "from sscutils.core.invoke_commands import write_subsets, push_subsets, import_data"
   ],
   "outputs": [],
   "metadata": {}
  },
  {
   "cell_type": "code",
   "execution_count": 3,
   "source": [
    "tmp_path = Path(\"../sscub/test-artifacts\")"
   ],
   "outputs": [],
   "metadata": {}
  },
  {
   "cell_type": "code",
   "execution_count": 4,
   "source": [
    "c = Context()\n",
    "ds1_path = tmp_path / \"test-dataset-a\"\n",
    "ds2_path = tmp_path / \"test-dataset-b\"\n",
    "dp1_path = tmp_path / \"test-project-a\"\n",
    "dp2_path = tmp_path / \"test-project-b\"\n",
    "\n",
    "dvc_remote1 = \"s3://sscu-budapest-public\"\n",
    "dvc_remote2 = \"s3://sscu-budapest-public-test-v2\""
   ],
   "outputs": [],
   "metadata": {}
  },
  {
   "cell_type": "code",
   "execution_count": 5,
   "source": [
    "git_remote_ds1 = \"git@github.com:/sscu-budapest/test-dataset-a\"\n",
    "git_remote_ds2 = \"git@github.com:/sscu-budapest/test-dataset-b\"\n",
    "git_remote_dp1 = \"git@github.com:/sscu-budapest/test-project-a\""
   ],
   "outputs": [],
   "metadata": {}
  },
  {
   "cell_type": "code",
   "execution_count": 6,
   "source": [
    "ds_template = \"https://github.com/sscu-budapest/dataset-template\"\n",
    "ds_template_tag = \"v0.0.0\"\n",
    "dp_template = \"https://github.com/sscu-budapest/project-template\"\n",
    "dp_template_tag = \"v0.0.0\""
   ],
   "outputs": [],
   "metadata": {}
  },
  {
   "cell_type": "code",
   "execution_count": 7,
   "source": [
    "git_email = \"endremborza@gmail.com\"\n",
    "git_name = \"Endre Márk Borza\""
   ],
   "outputs": [],
   "metadata": {}
  },
  {
   "cell_type": "code",
   "execution_count": 8,
   "source": [
    "dvcrlist = [dvc_remote1, dvc_remote2]\n",
    "dslist = [git_remote_ds1, git_remote_ds2]"
   ],
   "outputs": [],
   "metadata": {}
  },
  {
   "cell_type": "code",
   "execution_count": 9,
   "source": [
    "csv_url = (\n",
    "    \"https://raw.githubusercontent.com/sscu-budapest/sscutils/main/mock-artifacts/data\"\n",
    ")"
   ],
   "outputs": [],
   "metadata": {}
  },
  {
   "cell_type": "code",
   "execution_count": 10,
   "source": [
    "with c.cd(ds1_path), TemporaryDataset(\n",
    "    root_path=ds1_path,\n",
    "    git_remote=git_remote_ds1,\n",
    "    dvc_remotes=dvcrlist,\n",
    "    external_dvc_repos=None,\n",
    "    git_user=git_name,\n",
    "    git_email=git_name,\n",
    "    csv_path=csv_url,\n",
    "    template_repo=ds_template,\n",
    "    template_repo_tag=ds_template_tag\n",
    "):\n",
    "    write_subsets(c)\n",
    "    push_subsets(c)"
   ],
   "outputs": [
    {
     "output_type": "stream",
     "name": "stderr",
     "text": [
      "Cloning into '.'...\n",
      "Note: switching to 'v0.0.0'.\n",
      "\n",
      "You are in 'detached HEAD' state. You can look around, make experimental\n",
      "changes and commit them, and you can discard any commits you make in this\n",
      "state without impacting any branches by switching back to a branch.\n",
      "\n",
      "If you want to create a new branch to retain commits you create, you may\n",
      "do so (now or later) by using -c with the switch command. Example:\n",
      "\n",
      "  git switch -c <new-branch-name>\n",
      "\n",
      "Or undo this operation with:\n",
      "\n",
      "  git switch -\n",
      "\n",
      "Turn off this advice by setting config variable advice.detachedHead to false\n",
      "\n",
      "HEAD is now at a30c5bc expand readme\n",
      "Switched to a new branch 'tmp'\n",
      "Switched to and reset branch 'main'\n"
     ]
    },
    {
     "output_type": "stream",
     "name": "stdout",
     "text": [
      "Your branch is up to date with 'origin/main'.\n",
      "Deleted branch tmp (was a30c5bc).\n",
      "[main baa52de] setup dvc\n",
      " 1 file changed, 4 insertions(+)\n",
      "[main e61124c] add src\n",
      " 3 files changed, 32 insertions(+), 3 deletions(-)\n",
      "[main bbc6073] add configuration\n",
      " 1 file changed, 14 insertions(+), 1 deletion(-)\n",
      "[main 457f998] add script\n",
      " 1 file changed, 17 insertions(+)\n",
      " create mode 100644 load_init_data.py\n",
      "[main 5beff11] add documentation\n",
      " 1 file changed, 1 insertion(+), 12 deletions(-)\n",
      " rewrite README.md (100%)\n",
      "Your branch is ahead of 'origin/main' by 5 commits.\n",
      "  (use \"git push\" to publish your local commits)\n"
     ]
    },
    {
     "output_type": "stream",
     "name": "stderr",
     "text": [
      "fatal: A branch named 'main' already exists.\n",
      "Already on 'main'\n"
     ]
    },
    {
     "output_type": "stream",
     "name": "stdout",
     "text": [
      "[main ae87c48] update default dvc remote to remote1\n",
      " 1 file changed, 2 insertions(+)\n"
     ]
    },
    {
     "output_type": "stream",
     "name": "stderr",
     "text": [
      "To github.com:/sscu-budapest/test-dataset-a\n",
      " * [new branch]      main -> main\n",
      "Switched to a new branch 'public'\n"
     ]
    },
    {
     "output_type": "stream",
     "name": "stdout",
     "text": [
      "Branch 'main' set up to track remote branch 'main' from 'origin'.\n",
      "[public 9b21a23] update default dvc remote to remote2\n",
      " 1 file changed, 1 insertion(+), 1 deletion(-)\n"
     ]
    },
    {
     "output_type": "stream",
     "name": "stderr",
     "text": [
      "remote: \n",
      "remote: Create a pull request for 'public' on GitHub by visiting:        \n",
      "remote:      https://github.com/sscu-budapest/test-dataset-a/pull/new/public        \n",
      "remote: \n",
      "To github.com:/sscu-budapest/test-dataset-a\n",
      " * [new branch]      public -> public\n",
      "Switched to branch 'main'\n"
     ]
    },
    {
     "output_type": "stream",
     "name": "stdout",
     "text": [
      "Branch 'public' set up to track remote branch 'public' from 'origin'.\n",
      "Your branch is up to date with 'origin/main'.\n"
     ]
    },
    {
     "output_type": "stream",
     "name": "stderr",
     "text": [
      "Already on 'main'\n"
     ]
    },
    {
     "output_type": "stream",
     "name": "stdout",
     "text": [
      "Your branch is up to date with 'origin/main'.\n"
     ]
    },
    {
     "output_type": "display_data",
     "data": {
      "text/html": [
       "<pre style=\"white-space:pre;overflow-x:auto;line-height:normal;font-family:Menlo,'DejaVu Sans Mono',consolas,'Courier New',monospace\"></pre>\n"
      ],
      "text/plain": []
     },
     "metadata": {}
    },
    {
     "output_type": "stream",
     "name": "stdout",
     "text": [
      "\n",
      "To track the changes with git, run:\n",
      "\n",
      "\tgit add data/.gitignore data/complete.dvc\n",
      "[main 7b82f45] add data subset complete\n",
      " 2 files changed, 6 insertions(+)\n",
      " create mode 100644 data/.gitignore\n",
      " create mode 100644 data/complete.dvc\n"
     ]
    },
    {
     "output_type": "stream",
     "name": "stderr",
     "text": [
      "To github.com:/sscu-budapest/test-dataset-a\n",
      "   ae87c48..7b82f45  main -> main\n"
     ]
    },
    {
     "output_type": "stream",
     "name": "stdout",
     "text": [
      "Your branch is up to date with 'origin/main'.\n"
     ]
    },
    {
     "output_type": "stream",
     "name": "stderr",
     "text": [
      "Already on 'main'\n"
     ]
    },
    {
     "output_type": "display_data",
     "data": {
      "text/html": [
       "<pre style=\"white-space:pre;overflow-x:auto;line-height:normal;font-family:Menlo,'DejaVu Sans Mono',consolas,'Courier New',monospace\"></pre>\n"
      ],
      "text/plain": []
     },
     "metadata": {}
    },
    {
     "output_type": "stream",
     "name": "stdout",
     "text": [
      "\n",
      "To track the changes with git, run:\n",
      "\n",
      "\tgit add data/.gitignore data/dave_annie.dvc\n",
      "[main 7c07f8d] add data subset dave_annie\n",
      " 2 files changed, 6 insertions(+)\n",
      " create mode 100644 data/dave_annie.dvc\n"
     ]
    },
    {
     "output_type": "stream",
     "name": "stderr",
     "text": [
      "To github.com:/sscu-budapest/test-dataset-a\n",
      "   7b82f45..7c07f8d  main -> main\n",
      "Switched to branch 'public'\n"
     ]
    },
    {
     "output_type": "stream",
     "name": "stdout",
     "text": [
      "Your branch is up to date with 'origin/public'.\n"
     ]
    },
    {
     "output_type": "display_data",
     "data": {
      "text/html": [
       "<pre style=\"white-space:pre;overflow-x:auto;line-height:normal;font-family:Menlo,'DejaVu Sans Mono',consolas,'Courier New',monospace\"></pre>\n"
      ],
      "text/plain": []
     },
     "metadata": {}
    },
    {
     "output_type": "stream",
     "name": "stdout",
     "text": [
      "\n",
      "To track the changes with git, run:\n",
      "\n",
      "\tgit add data/.gitignore data/pete_dave_success.dvc\n",
      "[public 0ced0bf] add data subset pete_dave_success\n",
      " 2 files changed, 6 insertions(+)\n",
      " create mode 100644 data/.gitignore\n",
      " create mode 100644 data/pete_dave_success.dvc\n"
     ]
    },
    {
     "output_type": "stream",
     "name": "stderr",
     "text": [
      "To github.com:/sscu-budapest/test-dataset-a\n",
      "   9b21a23..0ced0bf  public -> public\n"
     ]
    }
   ],
   "metadata": {}
  },
  {
   "cell_type": "code",
   "execution_count": 11,
   "source": [
    "with c.cd(ds2_path), TemporaryDataset2(\n",
    "    root_path=ds2_path,\n",
    "    git_remote=git_remote_ds2,\n",
    "    dvc_remotes=dvcrlist[:1],\n",
    "    external_dvc_repos=None,\n",
    "    git_user=git_name,\n",
    "    git_email=git_name,\n",
    "    csv_path=csv_url,\n",
    "    template_repo=ds_template,\n",
    "    template_repo_tag=ds_template_tag\n",
    "):\n",
    "    write_subsets(c)\n",
    "    push_subsets(c)"
   ],
   "outputs": [
    {
     "output_type": "stream",
     "name": "stderr",
     "text": [
      "Cloning into '.'...\n",
      "Note: switching to 'v0.0.0'.\n",
      "\n",
      "You are in 'detached HEAD' state. You can look around, make experimental\n",
      "changes and commit them, and you can discard any commits you make in this\n",
      "state without impacting any branches by switching back to a branch.\n",
      "\n",
      "If you want to create a new branch to retain commits you create, you may\n",
      "do so (now or later) by using -c with the switch command. Example:\n",
      "\n",
      "  git switch -c <new-branch-name>\n",
      "\n",
      "Or undo this operation with:\n",
      "\n",
      "  git switch -\n",
      "\n",
      "Turn off this advice by setting config variable advice.detachedHead to false\n",
      "\n",
      "HEAD is now at a30c5bc expand readme\n",
      "Switched to a new branch 'tmp'\n",
      "Switched to and reset branch 'main'\n"
     ]
    },
    {
     "output_type": "stream",
     "name": "stdout",
     "text": [
      "Your branch is up to date with 'origin/main'.\n",
      "Deleted branch tmp (was a30c5bc).\n",
      "[main 0c11546] setup dvc\n",
      " 1 file changed, 2 insertions(+)\n",
      "[main 4ee8003] add src\n",
      " 3 files changed, 8 insertions(+), 5 deletions(-)\n",
      "On branch main\n",
      "Your branch is ahead of 'origin/main' by 2 commits.\n",
      "  (use \"git push\" to publish your local commits)\n",
      "\n",
      "Changes not staged for commit:\n",
      "  (use \"git add <file>...\" to update what will be committed)\n",
      "  (use \"git restore <file>...\" to discard changes in working directory)\n",
      "\tmodified:   README.md\n",
      "\n",
      "Untracked files:\n",
      "  (use \"git add <file>...\" to include in what will be committed)\n",
      "\tdata/\n",
      "\tload_init_data.py\n",
      "\n",
      "no changes added to commit (use \"git add\" and/or \"git commit -a\")\n",
      "[main 70e6c88] add script\n",
      " 1 file changed, 13 insertions(+)\n",
      " create mode 100644 load_init_data.py\n",
      "[main f8ae798] add documentation\n",
      " 1 file changed, 1 insertion(+), 12 deletions(-)\n",
      " rewrite README.md (100%)\n",
      "Your branch is ahead of 'origin/main' by 4 commits.\n",
      "  (use \"git push\" to publish your local commits)\n"
     ]
    },
    {
     "output_type": "stream",
     "name": "stderr",
     "text": [
      "fatal: A branch named 'main' already exists.\n",
      "Already on 'main'\n"
     ]
    },
    {
     "output_type": "stream",
     "name": "stdout",
     "text": [
      "[main b592e72] update default dvc remote to remote1\n",
      " 1 file changed, 2 insertions(+)\n"
     ]
    },
    {
     "output_type": "stream",
     "name": "stderr",
     "text": [
      "To github.com:/sscu-budapest/test-dataset-b\n",
      " * [new branch]      main -> main\n",
      "Already on 'main'\n",
      "Already on 'main'\n"
     ]
    },
    {
     "output_type": "stream",
     "name": "stdout",
     "text": [
      "Branch 'main' set up to track remote branch 'main' from 'origin'.\n",
      "Your branch is up to date with 'origin/main'.\n",
      "Your branch is up to date with 'origin/main'.\n"
     ]
    },
    {
     "output_type": "display_data",
     "data": {
      "text/html": [
       "<pre style=\"white-space:pre;overflow-x:auto;line-height:normal;font-family:Menlo,'DejaVu Sans Mono',consolas,'Courier New',monospace\"></pre>\n"
      ],
      "text/plain": []
     },
     "metadata": {}
    },
    {
     "output_type": "stream",
     "name": "stdout",
     "text": [
      "\n",
      "To track the changes with git, run:\n",
      "\n",
      "\tgit add data/.gitignore data/complete.dvc\n",
      "[main 2c8442e] add data subset complete\n",
      " 2 files changed, 6 insertions(+)\n",
      " create mode 100644 data/.gitignore\n",
      " create mode 100644 data/complete.dvc\n"
     ]
    },
    {
     "output_type": "stream",
     "name": "stderr",
     "text": [
      "To github.com:/sscu-budapest/test-dataset-b\n",
      "   b592e72..2c8442e  main -> main\n"
     ]
    }
   ],
   "metadata": {}
  },
  {
   "cell_type": "code",
   "execution_count": 12,
   "source": [
    "with c.cd(dp1_path), TemporaryProject(\n",
    "    root_path=dp1_path,\n",
    "    git_remote=git_remote_dp1,\n",
    "    external_dvc_repos=dslist,\n",
    "    git_user=git_name,\n",
    "    git_email=git_name,\n",
    "    template_repo=dp_template,\n",
    "    template_repo_tag=dp_template_tag\n",
    "):\n",
    "    import_data(c)\n",
    "    src_module = importlib.import_module(\"src\")\n",
    "    pipereg = src_module.pipereg\n",
    "    pipereg.get_step(\"transform_step\").run()"
   ],
   "outputs": [
    {
     "output_type": "stream",
     "name": "stderr",
     "text": [
      "Cloning into '.'...\n",
      "Note: switching to 'v0.0.0'.\n",
      "\n",
      "You are in 'detached HEAD' state. You can look around, make experimental\n",
      "changes and commit them, and you can discard any commits you make in this\n",
      "state without impacting any branches by switching back to a branch.\n",
      "\n",
      "If you want to create a new branch to retain commits you create, you may\n",
      "do so (now or later) by using -c with the switch command. Example:\n",
      "\n",
      "  git switch -c <new-branch-name>\n",
      "\n",
      "Or undo this operation with:\n",
      "\n",
      "  git switch -\n",
      "\n",
      "Turn off this advice by setting config variable advice.detachedHead to false\n",
      "\n",
      "HEAD is now at e479752 add proper readme\n",
      "Switched to a new branch 'tmp'\n",
      "Switched to and reset branch 'main'\n"
     ]
    },
    {
     "output_type": "stream",
     "name": "stdout",
     "text": [
      "Your branch is ahead of 'origin/main' by 2 commits.\n",
      "  (use \"git push\" to publish your local commits)\n",
      "Deleted branch tmp (was e479752).\n",
      "[main df38925] setup dvc\n",
      " 1 file changed, 2 insertions(+)\n",
      "[main aa19939] add src\n",
      " 3 files changed, 25 insertions(+), 1 deletion(-)\n",
      " create mode 100644 src/make_report.py\n",
      " create mode 100644 src/transform_data.py\n",
      "[main 669fbf5] add configuration\n",
      " 3 files changed, 16 insertions(+)\n",
      "On branch main\n",
      "Your branch is ahead of 'origin/main' by 5 commits.\n",
      "  (use \"git push\" to publish your local commits)\n",
      "\n",
      "Changes not staged for commit:\n",
      "  (use \"git add <file>...\" to update what will be committed)\n",
      "  (use \"git restore <file>...\" to discard changes in working directory)\n",
      "\tmodified:   README.md\n",
      "\n",
      "no changes added to commit (use \"git add\" and/or \"git commit -a\")\n",
      "[main 5ce99ba] add documentation\n",
      " 1 file changed, 1 insertion(+), 19 deletions(-)\n",
      " rewrite README.md (100%)\n",
      "Your branch is ahead of 'origin/main' by 6 commits.\n",
      "  (use \"git push\" to publish your local commits)\n"
     ]
    },
    {
     "output_type": "stream",
     "name": "stderr",
     "text": [
      "fatal: A branch named 'main' already exists.\n",
      "Already on 'main'\n"
     ]
    },
    {
     "output_type": "stream",
     "name": "stdout",
     "text": [
      "[main 4622c21] update default dvc remote to remote1\n",
      " 1 file changed, 2 insertions(+)\n",
      "Branch 'main' set up to track remote branch 'main' from 'origin'.\n",
      "Your branch is up to date with 'origin/main'.\n",
      "Importing 'data/pete_dave_success (git@github.com:/sscu-budapest/test-dataset-a)' -> 'data/op/pete_dave_success'\n"
     ]
    },
    {
     "output_type": "stream",
     "name": "stderr",
     "text": [
      "To github.com:/sscu-budapest/test-project-a\n",
      " * [new branch]      main -> main\n",
      "Already on 'main'\n"
     ]
    },
    {
     "output_type": "stream",
     "name": "stdout",
     "text": [
      "\n",
      "To track the changes with git, run:\n",
      "\n",
      "\tgit add data/op/.gitignore data/op/pete_dave_success.dvc\n",
      "[main 74217e0] add imported dataset op: pete_dave_success\n",
      " 4 files changed, 38 insertions(+)\n",
      " create mode 100644 data/op/.gitignore\n",
      " create mode 100644 data/op/pete_dave_success.dvc\n",
      " create mode 100644 src/data_management/op_raw_cols.py\n",
      " create mode 100644 src/data_management/op_trepos.py\n",
      "Importing 'data/complete (git@github.com:/sscu-budapest/test-dataset-b)' -> 'data/lv/complete'\n",
      "\n",
      "To track the changes with git, run:\n",
      "\n",
      "\tgit add data/lv/.gitignore data/lv/complete.dvc\n",
      "[main 4edfa90] add imported dataset lv: complete\n",
      " 4 files changed, 23 insertions(+)\n",
      " create mode 100644 data/lv/.gitignore\n",
      " create mode 100644 data/lv/complete.dvc\n",
      " create mode 100644 src/data_management/lv_raw_cols.py\n",
      " create mode 100644 src/data_management/lv_trepos.py\n"
     ]
    }
   ],
   "metadata": {}
  }
 ],
 "metadata": {
  "kernelspec": {
   "display_name": "Python 3",
   "language": "python",
   "name": "python3"
  },
  "language_info": {
   "codemirror_mode": {
    "name": "ipython",
    "version": 3
   },
   "file_extension": ".py",
   "mimetype": "text/x-python",
   "name": "python",
   "nbconvert_exporter": "python",
   "pygments_lexer": "ipython3",
   "version": "3.8.10"
  }
 },
 "nbformat": 4,
 "nbformat_minor": 5
}