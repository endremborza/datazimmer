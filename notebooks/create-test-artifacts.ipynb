{
 "cells": [
  {
   "cell_type": "code",
   "execution_count": 1,
   "id": "behind-favorite",
   "metadata": {},
   "outputs": [],
   "source": [
    "import importlib"
   ]
  },
  {
   "cell_type": "code",
   "execution_count": 2,
   "id": "crude-austin",
   "metadata": {},
   "outputs": [],
   "source": [
    "from pathlib import Path\n",
    "\n",
    "from invoke import Context\n",
    "\n",
    "from sscutils.tests.utils import TemporaryDataset, TemporaryDataset2, TemporaryProject\n",
    "from sscutils.core.invoke_commands import write_subsets, push_subsets, import_data"
   ]
  },
  {
   "cell_type": "code",
   "execution_count": 3,
   "id": "appropriate-emerald",
   "metadata": {},
   "outputs": [],
   "source": [
    "tmp_path = Path(\"/home/borza/mega/work/sscub/test-artifacts\")"
   ]
  },
  {
   "cell_type": "code",
   "execution_count": 4,
   "id": "progressive-pottery",
   "metadata": {},
   "outputs": [],
   "source": [
    "c = Context()\n",
    "ds1_path = tmp_path / \"test-dataset-a\"\n",
    "ds2_path = tmp_path / \"test-dataset-b\"\n",
    "dp1_path = tmp_path / \"test-project-a\"\n",
    "dp2_path = tmp_path / \"test-project-b\"\n",
    "\n",
    "dvc_remote1 = \"s3://sscu-budapest-public\"\n",
    "dvc_remote2 = \"s3://sscu-budapest-public-test-v2\""
   ]
  },
  {
   "cell_type": "code",
   "execution_count": 17,
   "id": "severe-ensemble",
   "metadata": {},
   "outputs": [],
   "source": [
    "git_remote_ds1 = \"git@github.com:/sscu-budapest/test-dataset-a\"\n",
    "git_remote_ds2 = \"git@github.com:/sscu-budapest/test-dataset-b\"\n",
    "git_remote_dp1 = \"git@github.com:/sscu-budapest/test-project-a\""
   ]
  },
  {
   "cell_type": "code",
   "execution_count": 6,
   "id": "tired-collapse",
   "metadata": {},
   "outputs": [],
   "source": [
    "ds_template = \"https://github.com/sscu-budapest/dataset-template\"\n",
    "dp_template = \"https://github.com/sscu-budapest/project-template\""
   ]
  },
  {
   "cell_type": "code",
   "execution_count": 7,
   "id": "large-flood",
   "metadata": {},
   "outputs": [],
   "source": [
    "git_email = \"endremborza@gmail.com\"\n",
    "git_name = \"Endre Márk Borza\""
   ]
  },
  {
   "cell_type": "code",
   "execution_count": 18,
   "id": "tight-custody",
   "metadata": {},
   "outputs": [],
   "source": [
    "dvcrlist = [dvc_remote1, dvc_remote2]\n",
    "dslist = [git_remote_ds1, git_remote_ds2]"
   ]
  },
  {
   "cell_type": "code",
   "execution_count": 9,
   "id": "early-reward",
   "metadata": {},
   "outputs": [],
   "source": [
    "csv_url = (\n",
    "    \"https://raw.githubusercontent.com/sscu-budapest/sscutils/main/mock-artifacts/data\"\n",
    ")"
   ]
  },
  {
   "cell_type": "code",
   "execution_count": 10,
   "id": "secondary-effectiveness",
   "metadata": {},
   "outputs": [
    {
     "name": "stderr",
     "output_type": "stream",
     "text": [
      "Already on 'main'\n"
     ]
    },
    {
     "name": "stdout",
     "output_type": "stream",
     "text": [
      "Your branch is up to date with 'origin/main'.\n",
      "\n",
      "To track the changes with git, run:\n",
      "\n",
      "\tgit add data/.gitignore data/complete.dvc\n",
      "[main 2c875ce] add data subset complete\n",
      " 2 files changed, 6 insertions(+)\n",
      " create mode 100644 data/.gitignore\n",
      " create mode 100644 data/complete.dvc\n"
     ]
    },
    {
     "name": "stderr",
     "output_type": "stream",
     "text": [
      "To https://github.com/sscu-budapest/test-dataset-a\n",
      "   38d0905..2c875ce  main -> main\n",
      "Already on 'main'\n"
     ]
    },
    {
     "name": "stdout",
     "output_type": "stream",
     "text": [
      "Your branch is up to date with 'origin/main'.\n",
      "\n",
      "To track the changes with git, run:\n",
      "\n",
      "\tgit add data/dave_annie.dvc data/.gitignore\n",
      "[main dd3f59b] add data subset dave_annie\n",
      " 2 files changed, 6 insertions(+)\n",
      " create mode 100644 data/dave_annie.dvc\n"
     ]
    },
    {
     "name": "stderr",
     "output_type": "stream",
     "text": [
      "To https://github.com/sscu-budapest/test-dataset-a\n",
      "   2c875ce..dd3f59b  main -> main\n",
      "Switched to branch 'public'\n"
     ]
    },
    {
     "name": "stdout",
     "output_type": "stream",
     "text": [
      "Your branch is up to date with 'origin/public'.\n",
      "\n",
      "To track the changes with git, run:\n",
      "\n",
      "\tgit add data/.gitignore data/pete_dave_success.dvc\n",
      "[public f3663e7] add data subset pete_dave_success\n",
      " 2 files changed, 6 insertions(+)\n",
      " create mode 100644 data/.gitignore\n",
      " create mode 100644 data/pete_dave_success.dvc\n"
     ]
    },
    {
     "name": "stderr",
     "output_type": "stream",
     "text": [
      "To https://github.com/sscu-budapest/test-dataset-a\n",
      "   2e99f3a..f3663e7  public -> public\n"
     ]
    }
   ],
   "source": [
    "with c.cd(ds1_path), TemporaryDataset(\n",
    "    root_path=ds1_path,\n",
    "    git_remote=git_remote_ds1,\n",
    "    dvc_remotes=dvcrlist,\n",
    "    external_dvc_repos=None,\n",
    "    git_user=git_name,\n",
    "    git_email=git_name,\n",
    "    csv_path=csv_url,\n",
    "    template_repo=ds_template,\n",
    "):\n",
    "    write_subsets(c)\n",
    "    push_subsets(c)"
   ]
  },
  {
   "cell_type": "code",
   "execution_count": 11,
   "id": "faced-singing",
   "metadata": {},
   "outputs": [
    {
     "name": "stderr",
     "output_type": "stream",
     "text": [
      "Already on 'main'\n"
     ]
    },
    {
     "name": "stdout",
     "output_type": "stream",
     "text": [
      "Your branch is up to date with 'origin/main'.\n",
      "\n",
      "To track the changes with git, run:\n",
      "\n",
      "\tgit add data/.gitignore data/complete.dvc\n",
      "[main 0e2ad9c] add data subset complete\n",
      " 2 files changed, 6 insertions(+)\n",
      " create mode 100644 data/.gitignore\n",
      " create mode 100644 data/complete.dvc\n"
     ]
    },
    {
     "name": "stderr",
     "output_type": "stream",
     "text": [
      "To https://github.com/sscu-budapest/test-dataset-b\n",
      "   ebd7a17..0e2ad9c  main -> main\n"
     ]
    }
   ],
   "source": [
    "with c.cd(ds2_path), TemporaryDataset2(\n",
    "    root_path=ds2_path,\n",
    "    git_remote=git_remote_ds2,\n",
    "    dvc_remotes=dvcrlist[:1],\n",
    "    external_dvc_repos=None,\n",
    "    git_user=git_name,\n",
    "    git_email=git_name,\n",
    "    csv_path=csv_url,\n",
    "    template_repo=ds_template,\n",
    "):\n",
    "    write_subsets(c)\n",
    "    push_subsets(c)"
   ]
  },
  {
   "cell_type": "code",
   "execution_count": 19,
   "id": "liberal-inflation",
   "metadata": {},
   "outputs": [
    {
     "name": "stdout",
     "output_type": "stream",
     "text": [
      "Importing 'data/pete_dave_success (git@github.com:/sscu-budapest/test-dataset-a)' -> 'data/op/pete_dave_success'\n",
      "\n",
      "To track the changes with git, run:\n",
      "\n",
      "\tgit add data/op/.gitignore data/op/pete_dave_success.dvc\n",
      "[main d2f3897] add imported dataset op: pete_dave_success\n",
      " 4 files changed, 38 insertions(+)\n",
      " create mode 100644 data/op/.gitignore\n",
      " create mode 100644 data/op/pete_dave_success.dvc\n",
      " create mode 100644 src/data_management/op_raw_cols.py\n",
      " create mode 100644 src/data_management/op_trepos.py\n",
      "Importing 'data/complete (git@github.com:/sscu-budapest/test-dataset-b)' -> 'data/lv/complete'\n",
      "\n",
      "To track the changes with git, run:\n",
      "\n",
      "\tgit add data/lv/complete.dvc data/lv/.gitignore\n",
      "[main 8eda470] add imported dataset lv: complete\n",
      " 4 files changed, 23 insertions(+)\n",
      " create mode 100644 data/lv/.gitignore\n",
      " create mode 100644 data/lv/complete.dvc\n",
      " create mode 100644 src/data_management/lv_raw_cols.py\n",
      " create mode 100644 src/data_management/lv_trepos.py\n"
     ]
    }
   ],
   "source": [
    "with c.cd(dp1_path), TemporaryProject(\n",
    "    root_path=dp1_path,\n",
    "    git_remote=git_remote_dp1,\n",
    "    external_dvc_repos=dslist,\n",
    "    git_user=git_name,\n",
    "    git_email=git_name,\n",
    "    template_repo=dp_template,\n",
    "):\n",
    "    import_data(c)\n",
    "    src_module = importlib.import_module(\"src\")\n",
    "    pipereg = src_module.pipereg\n",
    "    pipereg.get_step(\"transform_step\").run()"
   ]
  },
  {
   "cell_type": "code",
   "execution_count": 21,
   "id": "compact-folder",
   "metadata": {},
   "outputs": [],
   "source": [
    "import os"
   ]
  },
  {
   "cell_type": "code",
   "execution_count": 22,
   "id": "federal-birthday",
   "metadata": {},
   "outputs": [
    {
     "data": {
      "text/plain": [
       "KeysView(environ({'SHELL': '/bin/bash', 'SESSION_MANAGER': 'local/borza-aspire-20:@/tmp/.ICE-unix/1990,unix/borza-aspire-20:/tmp/.ICE-unix/1990', 'QT_ACCESSIBILITY': '1', 'COLORTERM': 'truecolor', 'XDG_CONFIG_DIRS': '/etc/xdg/xdg-ubuntu:/etc/xdg', 'XDG_SESSION_PATH': '/org/freedesktop/DisplayManager/Session0', 'XDG_MENU_PREFIX': 'gnome-', 'TERM_PROGRAM_VERSION': '1.59.1', 'GNOME_DESKTOP_SESSION_ID': 'this-is-deprecated', 'LANGUAGE': 'en_US', 'LC_ADDRESS': 'hu_HU.UTF-8', 'GNOME_SHELL_SESSION_MODE': 'ubuntu', 'LC_NAME': 'hu_HU.UTF-8', 'SSH_AUTH_SOCK': '/run/user/1000/keyring/ssh', 'BREAKPAD_DUMP_LOCATION': '/home/borza/.config/Code/exthost Crash Reports', 'XMODIFIERS': '@im=ibus', 'DESKTOP_SESSION': 'ubuntu', 'LC_MONETARY': 'hu_HU.UTF-8', 'SSH_AGENT_PID': '1944', 'GTK_MODULES': 'gail:atk-bridge', 'PWD': '/home/borza/mega/hacking/packages/python/sscutils', 'LOGNAME': 'borza', 'XDG_SESSION_DESKTOP': 'ubuntu', 'XDG_SESSION_TYPE': 'x11', 'GPG_AGENT_INFO': '/run/user/1000/gnupg/S.gpg-agent:0:1', '_': '/home/borza/.local/bin/jupyter', 'XAUTHORITY': '/home/borza/.Xauthority', 'VSCODE_GIT_ASKPASS_NODE': '/usr/share/code/code', 'XDG_GREETER_DATA_DIR': '/var/lib/lightdm-data/borza', 'GJS_DEBUG_TOPICS': 'JS ERROR;JS LOG', 'GDM_LANG': 'en_US', 'HOME': '/home/borza', 'IM_CONFIG_PHASE': '1', 'LANG': 'en_US.UTF-8', 'LC_PAPER': 'hu_HU.UTF-8', 'LS_COLORS': 'rs=0:di=01;34:ln=01;36:mh=00:pi=40;33:so=01;35:do=01;35:bd=40;33;01:cd=40;33;01:or=40;31;01:mi=00:su=37;41:sg=30;43:ca=30;41:tw=30;42:ow=34;42:st=37;44:ex=01;32:*.tar=01;31:*.tgz=01;31:*.arc=01;31:*.arj=01;31:*.taz=01;31:*.lha=01;31:*.lz4=01;31:*.lzh=01;31:*.lzma=01;31:*.tlz=01;31:*.txz=01;31:*.tzo=01;31:*.t7z=01;31:*.zip=01;31:*.z=01;31:*.dz=01;31:*.gz=01;31:*.lrz=01;31:*.lz=01;31:*.lzo=01;31:*.xz=01;31:*.zst=01;31:*.tzst=01;31:*.bz2=01;31:*.bz=01;31:*.tbz=01;31:*.tbz2=01;31:*.tz=01;31:*.deb=01;31:*.rpm=01;31:*.jar=01;31:*.war=01;31:*.ear=01;31:*.sar=01;31:*.rar=01;31:*.alz=01;31:*.ace=01;31:*.zoo=01;31:*.cpio=01;31:*.7z=01;31:*.rz=01;31:*.cab=01;31:*.wim=01;31:*.swm=01;31:*.dwm=01;31:*.esd=01;31:*.jpg=01;35:*.jpeg=01;35:*.mjpg=01;35:*.mjpeg=01;35:*.gif=01;35:*.bmp=01;35:*.pbm=01;35:*.pgm=01;35:*.ppm=01;35:*.tga=01;35:*.xbm=01;35:*.xpm=01;35:*.tif=01;35:*.tiff=01;35:*.png=01;35:*.svg=01;35:*.svgz=01;35:*.mng=01;35:*.pcx=01;35:*.mov=01;35:*.mpg=01;35:*.mpeg=01;35:*.m2v=01;35:*.mkv=01;35:*.webm=01;35:*.ogm=01;35:*.mp4=01;35:*.m4v=01;35:*.mp4v=01;35:*.vob=01;35:*.qt=01;35:*.nuv=01;35:*.wmv=01;35:*.asf=01;35:*.rm=01;35:*.rmvb=01;35:*.flc=01;35:*.avi=01;35:*.fli=01;35:*.flv=01;35:*.gl=01;35:*.dl=01;35:*.xcf=01;35:*.xwd=01;35:*.yuv=01;35:*.cgm=01;35:*.emf=01;35:*.ogv=01;35:*.ogx=01;35:*.aac=00;36:*.au=00;36:*.flac=00;36:*.m4a=00;36:*.mid=00;36:*.midi=00;36:*.mka=00;36:*.mp3=00;36:*.mpc=00;36:*.ogg=00;36:*.ra=00;36:*.wav=00;36:*.oga=00;36:*.opus=00;36:*.spx=00;36:*.xspf=00;36:', 'XDG_CURRENT_DESKTOP': 'Unity', 'GIT_ASKPASS': '/usr/share/code/resources/app/extensions/git/dist/askpass.sh', 'XDG_SEAT_PATH': '/org/freedesktop/DisplayManager/Seat0', 'INVOCATION_ID': '1d5c394281974c12856f861cb31cbd42', 'MANAGERPID': '1800', 'CHROME_DESKTOP': 'code-url-handler.desktop', 'GJS_DEBUG_OUTPUT': 'stderr', 'GEM_HOME': '/home/borza/gems', 'LESSCLOSE': '/usr/bin/lesspipe %s %s', 'XDG_SESSION_CLASS': 'user', 'LC_IDENTIFICATION': 'hu_HU.UTF-8', 'TERM': 'xterm-color', 'LESSOPEN': '| /usr/bin/lesspipe %s', 'USER': 'borza', 'VSCODE_GIT_IPC_HANDLE': '/run/user/1000/vscode-git-3efb332508.sock', 'DISPLAY': ':0', 'SHLVL': '1', 'LC_TELEPHONE': 'hu_HU.UTF-8', 'QT_IM_MODULE': 'ibus', 'LC_MEASUREMENT': 'hu_HU.UTF-8', 'XDG_RUNTIME_DIR': '/run/user/1000', 'LC_TIME': 'hu_HU.UTF-8', 'VSCODE_GIT_ASKPASS_MAIN': '/usr/share/code/resources/app/extensions/git/dist/askpass-main.js', 'JOURNAL_STREAM': '8:41881', 'XDG_DATA_DIRS': '/usr/share/ubuntu:/usr/local/share:/usr/share:/var/lib/snapd/desktop', 'GDK_BACKEND': 'x11', 'PATH': '/home/borza/gems/bin:/home/borza/.local/bin:/home/borza/gems/bin:/home/borza/.local/bin:/usr/local/sbin:/usr/local/bin:/usr/sbin:/usr/bin:/sbin:/bin:/usr/games:/usr/local/games:/snap/bin:/home/borza/mega/software/julia-1.5.2/bin:/home/borza/mega/software/julia-1.5.2/bin', 'GDMSESSION': 'ubuntu', 'ORIGINAL_XDG_CURRENT_DESKTOP': 'ubuntu:GNOME', 'DBUS_SESSION_BUS_ADDRESS': 'unix:path=/run/user/1000/bus', 'GIO_LAUNCHED_DESKTOP_FILE_PID': '3646', 'GIO_LAUNCHED_DESKTOP_FILE': '/usr/share/applications/code.desktop', 'LC_NUMERIC': 'hu_HU.UTF-8', 'TERM_PROGRAM': 'vscode', 'JPY_PARENT_PID': '4092', 'CLICOLOR': '1', 'PAGER': 'cat', 'GIT_PAGER': 'cat', 'MPLBACKEND': 'module://ipykernel.pylab.backend_inline'}))"
      ]
     },
     "execution_count": 22,
     "metadata": {},
     "output_type": "execute_result"
    }
   ],
   "source": [
    "os.environ.keys()"
   ]
  }
 ],
 "metadata": {
  "kernelspec": {
   "display_name": "Python 3",
   "language": "python",
   "name": "python3"
  },
  "language_info": {
   "codemirror_mode": {
    "name": "ipython",
    "version": 3
   },
   "file_extension": ".py",
   "mimetype": "text/x-python",
   "name": "python",
   "nbconvert_exporter": "python",
   "pygments_lexer": "ipython3",
   "version": "3.8.10"
  }
 },
 "nbformat": 4,
 "nbformat_minor": 5
}
