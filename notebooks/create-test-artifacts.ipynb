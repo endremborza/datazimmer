{
 "cells": [
  {
   "cell_type": "code",
   "execution_count": 1,
   "id": "selected-hydrogen",
   "metadata": {},
   "outputs": [],
   "source": [
    "import importlib"
   ]
  },
  {
   "cell_type": "code",
   "execution_count": 2,
   "id": "clinical-victor",
   "metadata": {},
   "outputs": [],
   "source": [
    "from pathlib import Path\n",
    "\n",
    "from invoke import Context\n",
    "\n",
    "from sscutils.tests.utils import TemporaryDataset, TemporaryDataset2, TemporaryProject\n",
    "from sscutils.core.invoke_commands import write_subsets, push_subsets, import_data"
   ]
  },
  {
   "cell_type": "code",
   "execution_count": 3,
   "id": "micro-warren",
   "metadata": {},
   "outputs": [],
   "source": [
    "tmp_path = Path(\"/home/borza/mega/work/sscub/test-artifacts\")"
   ]
  },
  {
   "cell_type": "code",
   "execution_count": 4,
   "id": "disturbed-vinyl",
   "metadata": {},
   "outputs": [],
   "source": [
    "c = Context()\n",
    "ds1_path = tmp_path / \"test-dataset-a\"\n",
    "ds2_path = tmp_path / \"test-dataset-b\"\n",
    "dp1_path = tmp_path / \"test-project-a\"\n",
    "dp2_path = tmp_path / \"test-project-b\"\n",
    "\n",
    "dvc_remote1 = \"s3://sscu-budapest-public\"\n",
    "dvc_remote2 = \"s3://sscu-budapest-public-test-v2\""
   ]
  },
  {
   "cell_type": "code",
   "execution_count": 17,
   "id": "beginning-eleven",
   "metadata": {},
   "outputs": [],
   "source": [
    "git_remote_ds1 = \"git@github.com:/sscu-budapest/test-dataset-a\"\n",
    "git_remote_ds2 = \"git@github.com:/sscu-budapest/test-dataset-b\"\n",
    "git_remote_dp1 = \"git@github.com:/sscu-budapest/test-project-a\""
   ]
  },
  {
   "cell_type": "code",
   "execution_count": 6,
   "id": "applied-charter",
   "metadata": {},
   "outputs": [],
   "source": [
    "ds_template = \"https://github.com/sscu-budapest/dataset-template\"\n",
    "dp_template = \"https://github.com/sscu-budapest/project-template\""
   ]
  },
  {
   "cell_type": "code",
   "execution_count": 7,
   "id": "confirmed-hollow",
   "metadata": {},
   "outputs": [],
   "source": [
    "git_email = \"endremborza@gmail.com\"\n",
    "git_name = \"Endre Márk Borza\""
   ]
  },
  {
   "cell_type": "code",
   "execution_count": 18,
   "id": "later-farmer",
   "metadata": {},
   "outputs": [],
   "source": [
    "dvcrlist = [dvc_remote1, dvc_remote2]\n",
    "dslist = [git_remote_ds1, git_remote_ds2]"
   ]
  },
  {
   "cell_type": "code",
   "execution_count": 9,
   "id": "human-magnitude",
   "metadata": {},
   "outputs": [],
   "source": [
    "csv_url = (\n",
    "    \"https://raw.githubusercontent.com/sscu-budapest/sscutils/main/mock-artifacts/data\"\n",
    ")"
   ]
  },
  {
   "cell_type": "code",
   "execution_count": 10,
   "id": "upper-possible",
   "metadata": {},
   "outputs": [
    {
     "name": "stderr",
     "output_type": "stream",
     "text": [
      "Already on 'main'\n"
     ]
    },
    {
     "name": "stdout",
     "output_type": "stream",
     "text": [
      "Your branch is up to date with 'origin/main'.\n",
      "\n",
      "To track the changes with git, run:\n",
      "\n",
      "\tgit add data/.gitignore data/complete.dvc\n",
      "[main 2c875ce] add data subset complete\n",
      " 2 files changed, 6 insertions(+)\n",
      " create mode 100644 data/.gitignore\n",
      " create mode 100644 data/complete.dvc\n"
     ]
    },
    {
     "name": "stderr",
     "output_type": "stream",
     "text": [
      "To https://github.com/sscu-budapest/test-dataset-a\n",
      "   38d0905..2c875ce  main -> main\n",
      "Already on 'main'\n"
     ]
    },
    {
     "name": "stdout",
     "output_type": "stream",
     "text": [
      "Your branch is up to date with 'origin/main'.\n",
      "\n",
      "To track the changes with git, run:\n",
      "\n",
      "\tgit add data/dave_annie.dvc data/.gitignore\n",
      "[main dd3f59b] add data subset dave_annie\n",
      " 2 files changed, 6 insertions(+)\n",
      " create mode 100644 data/dave_annie.dvc\n"
     ]
    },
    {
     "name": "stderr",
     "output_type": "stream",
     "text": [
      "To https://github.com/sscu-budapest/test-dataset-a\n",
      "   2c875ce..dd3f59b  main -> main\n",
      "Switched to branch 'public'\n"
     ]
    },
    {
     "name": "stdout",
     "output_type": "stream",
     "text": [
      "Your branch is up to date with 'origin/public'.\n",
      "\n",
      "To track the changes with git, run:\n",
      "\n",
      "\tgit add data/.gitignore data/pete_dave_success.dvc\n",
      "[public f3663e7] add data subset pete_dave_success\n",
      " 2 files changed, 6 insertions(+)\n",
      " create mode 100644 data/.gitignore\n",
      " create mode 100644 data/pete_dave_success.dvc\n"
     ]
    },
    {
     "name": "stderr",
     "output_type": "stream",
     "text": [
      "To https://github.com/sscu-budapest/test-dataset-a\n",
      "   2e99f3a..f3663e7  public -> public\n"
     ]
    }
   ],
   "source": [
    "with c.cd(ds1_path), TemporaryDataset(\n",
    "    root_path=ds1_path,\n",
    "    git_remote=git_remote_ds1,\n",
    "    dvc_remotes=dvcrlist,\n",
    "    external_dvc_repos=None,\n",
    "    git_user=git_name,\n",
    "    git_email=git_name,\n",
    "    csv_path=csv_url,\n",
    "    template_repo=ds_template,\n",
    "):\n",
    "    write_subsets(c)\n",
    "    push_subsets(c)"
   ]
  },
  {
   "cell_type": "code",
   "execution_count": 11,
   "id": "direct-afghanistan",
   "metadata": {},
   "outputs": [
    {
     "name": "stderr",
     "output_type": "stream",
     "text": [
      "Already on 'main'\n"
     ]
    },
    {
     "name": "stdout",
     "output_type": "stream",
     "text": [
      "Your branch is up to date with 'origin/main'.\n",
      "\n",
      "To track the changes with git, run:\n",
      "\n",
      "\tgit add data/.gitignore data/complete.dvc\n",
      "[main 0e2ad9c] add data subset complete\n",
      " 2 files changed, 6 insertions(+)\n",
      " create mode 100644 data/.gitignore\n",
      " create mode 100644 data/complete.dvc\n"
     ]
    },
    {
     "name": "stderr",
     "output_type": "stream",
     "text": [
      "To https://github.com/sscu-budapest/test-dataset-b\n",
      "   ebd7a17..0e2ad9c  main -> main\n"
     ]
    }
   ],
   "source": [
    "with c.cd(ds2_path), TemporaryDataset2(\n",
    "    root_path=ds2_path,\n",
    "    git_remote=git_remote_ds2,\n",
    "    dvc_remotes=dvcrlist[:1],\n",
    "    external_dvc_repos=None,\n",
    "    git_user=git_name,\n",
    "    git_email=git_name,\n",
    "    csv_path=csv_url,\n",
    "    template_repo=ds_template,\n",
    "):\n",
    "    write_subsets(c)\n",
    "    push_subsets(c)"
   ]
  },
  {
   "cell_type": "code",
   "execution_count": 19,
   "id": "resistant-resolution",
   "metadata": {},
   "outputs": [
    {
     "name": "stdout",
     "output_type": "stream",
     "text": [
      "Importing 'data/pete_dave_success (git@github.com:/sscu-budapest/test-dataset-a)' -> 'data/op/pete_dave_success'\n",
      "\n",
      "To track the changes with git, run:\n",
      "\n",
      "\tgit add data/op/.gitignore data/op/pete_dave_success.dvc\n",
      "[main d2f3897] add imported dataset op: pete_dave_success\n",
      " 4 files changed, 38 insertions(+)\n",
      " create mode 100644 data/op/.gitignore\n",
      " create mode 100644 data/op/pete_dave_success.dvc\n",
      " create mode 100644 src/data_management/op_raw_cols.py\n",
      " create mode 100644 src/data_management/op_trepos.py\n",
      "Importing 'data/complete (git@github.com:/sscu-budapest/test-dataset-b)' -> 'data/lv/complete'\n",
      "\n",
      "To track the changes with git, run:\n",
      "\n",
      "\tgit add data/lv/complete.dvc data/lv/.gitignore\n",
      "[main 8eda470] add imported dataset lv: complete\n",
      " 4 files changed, 23 insertions(+)\n",
      " create mode 100644 data/lv/.gitignore\n",
      " create mode 100644 data/lv/complete.dvc\n",
      " create mode 100644 src/data_management/lv_raw_cols.py\n",
      " create mode 100644 src/data_management/lv_trepos.py\n"
     ]
    }
   ],
   "source": [
    "with c.cd(dp1_path), TemporaryProject(\n",
    "    root_path=dp1_path,\n",
    "    git_remote=git_remote_dp1,\n",
    "    external_dvc_repos=dslist,\n",
    "    git_user=git_name,\n",
    "    git_email=git_name,\n",
    "    template_repo=dp_template,\n",
    "):\n",
    "    import_data(c)\n",
    "    src_module = importlib.import_module(\"src\")\n",
    "    pipereg = src_module.pipereg\n",
    "    pipereg.get_step(\"transform_step\").run()"
   ]
  }
 ],
 "metadata": {
  "kernelspec": {
   "display_name": "Python 3",
   "language": "python",
   "name": "python3"
  },
  "language_info": {
   "codemirror_mode": {
    "name": "ipython",
    "version": 3
   },
   "file_extension": ".py",
   "mimetype": "text/x-python",
   "name": "python",
   "nbconvert_exporter": "python",
   "pygments_lexer": "ipython3",
   "version": "3.8.10"
  }
 },
 "nbformat": 4,
 "nbformat_minor": 5
}
